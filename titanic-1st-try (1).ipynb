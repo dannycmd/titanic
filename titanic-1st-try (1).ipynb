{
 "cells": [
  {
   "cell_type": "code",
   "execution_count": 1,
   "metadata": {
    "_cell_guid": "b1076dfc-b9ad-4769-8c92-a6c4dae69d19",
    "_uuid": "8f2839f25d086af736a60e9eeb907d3b93b6e0e5",
    "execution": {
     "iopub.execute_input": "2021-01-21T14:57:04.306247Z",
     "iopub.status.busy": "2021-01-21T14:57:04.305251Z",
     "iopub.status.idle": "2021-01-21T14:57:04.312966Z",
     "shell.execute_reply": "2021-01-21T14:57:04.313715Z"
    },
    "papermill": {
     "duration": 0.029507,
     "end_time": "2021-01-21T14:57:04.313943",
     "exception": false,
     "start_time": "2021-01-21T14:57:04.284436",
     "status": "completed"
    },
    "tags": []
   },
   "outputs": [],
   "source": [
    "import pandas as pd"
   ]
  },
  {
   "cell_type": "code",
   "execution_count": 2,
   "metadata": {
    "_cell_guid": "79c7e3d0-c299-4dcb-8224-4455121ee9b0",
    "_uuid": "d629ff2d2480ee46fbb7e2d37f6b5fab8052498a",
    "execution": {
     "iopub.execute_input": "2021-01-21T14:57:04.352680Z",
     "iopub.status.busy": "2021-01-21T14:57:04.351399Z",
     "iopub.status.idle": "2021-01-21T14:57:04.412545Z",
     "shell.execute_reply": "2021-01-21T14:57:04.413196Z"
    },
    "papermill": {
     "duration": 0.082947,
     "end_time": "2021-01-21T14:57:04.413350",
     "exception": false,
     "start_time": "2021-01-21T14:57:04.330403",
     "status": "completed"
    },
    "tags": []
   },
   "outputs": [
    {
     "data": {
      "text/html": [
       "<div>\n",
       "<style scoped>\n",
       "    .dataframe tbody tr th:only-of-type {\n",
       "        vertical-align: middle;\n",
       "    }\n",
       "\n",
       "    .dataframe tbody tr th {\n",
       "        vertical-align: top;\n",
       "    }\n",
       "\n",
       "    .dataframe thead th {\n",
       "        text-align: right;\n",
       "    }\n",
       "</style>\n",
       "<table border=\"1\" class=\"dataframe\">\n",
       "  <thead>\n",
       "    <tr style=\"text-align: right;\">\n",
       "      <th></th>\n",
       "      <th>PassengerId</th>\n",
       "      <th>Survived</th>\n",
       "      <th>Pclass</th>\n",
       "      <th>Name</th>\n",
       "      <th>Sex</th>\n",
       "      <th>Age</th>\n",
       "      <th>SibSp</th>\n",
       "      <th>Parch</th>\n",
       "      <th>Ticket</th>\n",
       "      <th>Fare</th>\n",
       "      <th>Cabin</th>\n",
       "      <th>Embarked</th>\n",
       "    </tr>\n",
       "  </thead>\n",
       "  <tbody>\n",
       "    <tr>\n",
       "      <th>0</th>\n",
       "      <td>1</td>\n",
       "      <td>0</td>\n",
       "      <td>3</td>\n",
       "      <td>Braund, Mr. Owen Harris</td>\n",
       "      <td>male</td>\n",
       "      <td>22.0</td>\n",
       "      <td>1</td>\n",
       "      <td>0</td>\n",
       "      <td>A/5 21171</td>\n",
       "      <td>7.2500</td>\n",
       "      <td>NaN</td>\n",
       "      <td>S</td>\n",
       "    </tr>\n",
       "    <tr>\n",
       "      <th>1</th>\n",
       "      <td>2</td>\n",
       "      <td>1</td>\n",
       "      <td>1</td>\n",
       "      <td>Cumings, Mrs. John Bradley (Florence Briggs Th...</td>\n",
       "      <td>female</td>\n",
       "      <td>38.0</td>\n",
       "      <td>1</td>\n",
       "      <td>0</td>\n",
       "      <td>PC 17599</td>\n",
       "      <td>71.2833</td>\n",
       "      <td>C85</td>\n",
       "      <td>C</td>\n",
       "    </tr>\n",
       "    <tr>\n",
       "      <th>2</th>\n",
       "      <td>3</td>\n",
       "      <td>1</td>\n",
       "      <td>3</td>\n",
       "      <td>Heikkinen, Miss. Laina</td>\n",
       "      <td>female</td>\n",
       "      <td>26.0</td>\n",
       "      <td>0</td>\n",
       "      <td>0</td>\n",
       "      <td>STON/O2. 3101282</td>\n",
       "      <td>7.9250</td>\n",
       "      <td>NaN</td>\n",
       "      <td>S</td>\n",
       "    </tr>\n",
       "    <tr>\n",
       "      <th>3</th>\n",
       "      <td>4</td>\n",
       "      <td>1</td>\n",
       "      <td>1</td>\n",
       "      <td>Futrelle, Mrs. Jacques Heath (Lily May Peel)</td>\n",
       "      <td>female</td>\n",
       "      <td>35.0</td>\n",
       "      <td>1</td>\n",
       "      <td>0</td>\n",
       "      <td>113803</td>\n",
       "      <td>53.1000</td>\n",
       "      <td>C123</td>\n",
       "      <td>S</td>\n",
       "    </tr>\n",
       "    <tr>\n",
       "      <th>4</th>\n",
       "      <td>5</td>\n",
       "      <td>0</td>\n",
       "      <td>3</td>\n",
       "      <td>Allen, Mr. William Henry</td>\n",
       "      <td>male</td>\n",
       "      <td>35.0</td>\n",
       "      <td>0</td>\n",
       "      <td>0</td>\n",
       "      <td>373450</td>\n",
       "      <td>8.0500</td>\n",
       "      <td>NaN</td>\n",
       "      <td>S</td>\n",
       "    </tr>\n",
       "  </tbody>\n",
       "</table>\n",
       "</div>"
      ],
      "text/plain": [
       "   PassengerId  Survived  Pclass  \\\n",
       "0            1         0       3   \n",
       "1            2         1       1   \n",
       "2            3         1       3   \n",
       "3            4         1       1   \n",
       "4            5         0       3   \n",
       "\n",
       "                                                Name     Sex   Age  SibSp  \\\n",
       "0                            Braund, Mr. Owen Harris    male  22.0      1   \n",
       "1  Cumings, Mrs. John Bradley (Florence Briggs Th...  female  38.0      1   \n",
       "2                             Heikkinen, Miss. Laina  female  26.0      0   \n",
       "3       Futrelle, Mrs. Jacques Heath (Lily May Peel)  female  35.0      1   \n",
       "4                           Allen, Mr. William Henry    male  35.0      0   \n",
       "\n",
       "   Parch            Ticket     Fare Cabin Embarked  \n",
       "0      0         A/5 21171   7.2500   NaN        S  \n",
       "1      0          PC 17599  71.2833   C85        C  \n",
       "2      0  STON/O2. 3101282   7.9250   NaN        S  \n",
       "3      0            113803  53.1000  C123        S  \n",
       "4      0            373450   8.0500   NaN        S  "
      ]
     },
     "execution_count": 2,
     "metadata": {},
     "output_type": "execute_result"
    }
   ],
   "source": [
    "train_data = pd.read_csv(\"/kaggle/input/titanic/train.csv\")\n",
    "X_test = pd.read_csv(\"/kaggle/input/titanic/test.csv\")\n",
    "\n",
    "train_data.head()"
   ]
  },
  {
   "cell_type": "code",
   "execution_count": 3,
   "metadata": {
    "execution": {
     "iopub.execute_input": "2021-01-21T14:57:04.442427Z",
     "iopub.status.busy": "2021-01-21T14:57:04.441475Z",
     "iopub.status.idle": "2021-01-21T14:57:04.486040Z",
     "shell.execute_reply": "2021-01-21T14:57:04.485150Z"
    },
    "papermill": {
     "duration": 0.060156,
     "end_time": "2021-01-21T14:57:04.486180",
     "exception": false,
     "start_time": "2021-01-21T14:57:04.426024",
     "status": "completed"
    },
    "tags": []
   },
   "outputs": [
    {
     "data": {
      "text/html": [
       "<div>\n",
       "<style scoped>\n",
       "    .dataframe tbody tr th:only-of-type {\n",
       "        vertical-align: middle;\n",
       "    }\n",
       "\n",
       "    .dataframe tbody tr th {\n",
       "        vertical-align: top;\n",
       "    }\n",
       "\n",
       "    .dataframe thead th {\n",
       "        text-align: right;\n",
       "    }\n",
       "</style>\n",
       "<table border=\"1\" class=\"dataframe\">\n",
       "  <thead>\n",
       "    <tr style=\"text-align: right;\">\n",
       "      <th></th>\n",
       "      <th>PassengerId</th>\n",
       "      <th>Survived</th>\n",
       "      <th>Pclass</th>\n",
       "      <th>Age</th>\n",
       "      <th>SibSp</th>\n",
       "      <th>Parch</th>\n",
       "      <th>Fare</th>\n",
       "    </tr>\n",
       "  </thead>\n",
       "  <tbody>\n",
       "    <tr>\n",
       "      <th>count</th>\n",
       "      <td>891.000000</td>\n",
       "      <td>891.000000</td>\n",
       "      <td>891.000000</td>\n",
       "      <td>714.000000</td>\n",
       "      <td>891.000000</td>\n",
       "      <td>891.000000</td>\n",
       "      <td>891.000000</td>\n",
       "    </tr>\n",
       "    <tr>\n",
       "      <th>mean</th>\n",
       "      <td>446.000000</td>\n",
       "      <td>0.383838</td>\n",
       "      <td>2.308642</td>\n",
       "      <td>29.699118</td>\n",
       "      <td>0.523008</td>\n",
       "      <td>0.381594</td>\n",
       "      <td>32.204208</td>\n",
       "    </tr>\n",
       "    <tr>\n",
       "      <th>std</th>\n",
       "      <td>257.353842</td>\n",
       "      <td>0.486592</td>\n",
       "      <td>0.836071</td>\n",
       "      <td>14.526497</td>\n",
       "      <td>1.102743</td>\n",
       "      <td>0.806057</td>\n",
       "      <td>49.693429</td>\n",
       "    </tr>\n",
       "    <tr>\n",
       "      <th>min</th>\n",
       "      <td>1.000000</td>\n",
       "      <td>0.000000</td>\n",
       "      <td>1.000000</td>\n",
       "      <td>0.420000</td>\n",
       "      <td>0.000000</td>\n",
       "      <td>0.000000</td>\n",
       "      <td>0.000000</td>\n",
       "    </tr>\n",
       "    <tr>\n",
       "      <th>25%</th>\n",
       "      <td>223.500000</td>\n",
       "      <td>0.000000</td>\n",
       "      <td>2.000000</td>\n",
       "      <td>20.125000</td>\n",
       "      <td>0.000000</td>\n",
       "      <td>0.000000</td>\n",
       "      <td>7.910400</td>\n",
       "    </tr>\n",
       "    <tr>\n",
       "      <th>50%</th>\n",
       "      <td>446.000000</td>\n",
       "      <td>0.000000</td>\n",
       "      <td>3.000000</td>\n",
       "      <td>28.000000</td>\n",
       "      <td>0.000000</td>\n",
       "      <td>0.000000</td>\n",
       "      <td>14.454200</td>\n",
       "    </tr>\n",
       "    <tr>\n",
       "      <th>75%</th>\n",
       "      <td>668.500000</td>\n",
       "      <td>1.000000</td>\n",
       "      <td>3.000000</td>\n",
       "      <td>38.000000</td>\n",
       "      <td>1.000000</td>\n",
       "      <td>0.000000</td>\n",
       "      <td>31.000000</td>\n",
       "    </tr>\n",
       "    <tr>\n",
       "      <th>max</th>\n",
       "      <td>891.000000</td>\n",
       "      <td>1.000000</td>\n",
       "      <td>3.000000</td>\n",
       "      <td>80.000000</td>\n",
       "      <td>8.000000</td>\n",
       "      <td>6.000000</td>\n",
       "      <td>512.329200</td>\n",
       "    </tr>\n",
       "  </tbody>\n",
       "</table>\n",
       "</div>"
      ],
      "text/plain": [
       "       PassengerId    Survived      Pclass         Age       SibSp  \\\n",
       "count   891.000000  891.000000  891.000000  714.000000  891.000000   \n",
       "mean    446.000000    0.383838    2.308642   29.699118    0.523008   \n",
       "std     257.353842    0.486592    0.836071   14.526497    1.102743   \n",
       "min       1.000000    0.000000    1.000000    0.420000    0.000000   \n",
       "25%     223.500000    0.000000    2.000000   20.125000    0.000000   \n",
       "50%     446.000000    0.000000    3.000000   28.000000    0.000000   \n",
       "75%     668.500000    1.000000    3.000000   38.000000    1.000000   \n",
       "max     891.000000    1.000000    3.000000   80.000000    8.000000   \n",
       "\n",
       "            Parch        Fare  \n",
       "count  891.000000  891.000000  \n",
       "mean     0.381594   32.204208  \n",
       "std      0.806057   49.693429  \n",
       "min      0.000000    0.000000  \n",
       "25%      0.000000    7.910400  \n",
       "50%      0.000000   14.454200  \n",
       "75%      0.000000   31.000000  \n",
       "max      6.000000  512.329200  "
      ]
     },
     "execution_count": 3,
     "metadata": {},
     "output_type": "execute_result"
    }
   ],
   "source": [
    "train_data.describe()"
   ]
  },
  {
   "cell_type": "code",
   "execution_count": 4,
   "metadata": {
    "execution": {
     "iopub.execute_input": "2021-01-21T14:57:04.523384Z",
     "iopub.status.busy": "2021-01-21T14:57:04.522685Z",
     "iopub.status.idle": "2021-01-21T14:57:04.557968Z",
     "shell.execute_reply": "2021-01-21T14:57:04.557321Z"
    },
    "papermill": {
     "duration": 0.055481,
     "end_time": "2021-01-21T14:57:04.558088",
     "exception": false,
     "start_time": "2021-01-21T14:57:04.502607",
     "status": "completed"
    },
    "tags": []
   },
   "outputs": [],
   "source": [
    "# remove rows with missing y values\n",
    "train_data.dropna(axis=0, subset=[\"Survived\"], inplace=True)\n",
    "\n",
    "y = train_data.Survived\n",
    "X = train_data.drop(columns=[\"Survived\"])"
   ]
  },
  {
   "cell_type": "code",
   "execution_count": 5,
   "metadata": {
    "execution": {
     "iopub.execute_input": "2021-01-21T14:57:04.592413Z",
     "iopub.status.busy": "2021-01-21T14:57:04.591532Z",
     "iopub.status.idle": "2021-01-21T14:57:05.739050Z",
     "shell.execute_reply": "2021-01-21T14:57:05.739575Z"
    },
    "papermill": {
     "duration": 1.168396,
     "end_time": "2021-01-21T14:57:05.739765",
     "exception": false,
     "start_time": "2021-01-21T14:57:04.571369",
     "status": "completed"
    },
    "tags": []
   },
   "outputs": [],
   "source": [
    "from sklearn.model_selection import train_test_split\n",
    "\n",
    "# split data into training and validation sets\n",
    "X_train, X_valid, y_train, y_valid = train_test_split(X, y, train_size=0.8, test_size=0.2, random_state=0)"
   ]
  },
  {
   "cell_type": "code",
   "execution_count": 6,
   "metadata": {
    "execution": {
     "iopub.execute_input": "2021-01-21T14:57:05.780987Z",
     "iopub.status.busy": "2021-01-21T14:57:05.780177Z",
     "iopub.status.idle": "2021-01-21T14:57:05.786608Z",
     "shell.execute_reply": "2021-01-21T14:57:05.787180Z"
    },
    "papermill": {
     "duration": 0.033101,
     "end_time": "2021-01-21T14:57:05.787359",
     "exception": false,
     "start_time": "2021-01-21T14:57:05.754258",
     "status": "completed"
    },
    "tags": []
   },
   "outputs": [
    {
     "data": {
      "text/plain": [
       "[('Cabin', 687),\n",
       " ('Age', 177),\n",
       " ('Embarked', 2),\n",
       " ('PassengerId', 0),\n",
       " ('Pclass', 0),\n",
       " ('Name', 0),\n",
       " ('Sex', 0),\n",
       " ('SibSp', 0),\n",
       " ('Parch', 0),\n",
       " ('Ticket', 0),\n",
       " ('Fare', 0)]"
      ]
     },
     "execution_count": 6,
     "metadata": {},
     "output_type": "execute_result"
    }
   ],
   "source": [
    "# view how many missing values each column has\n",
    "missing_values = {}\n",
    "for col in X.columns:\n",
    "    missing_values[col] = X[col].isnull().sum()\n",
    "sorted(missing_values.items(), key=lambda x:x[1], reverse=True)"
   ]
  },
  {
   "cell_type": "code",
   "execution_count": 7,
   "metadata": {
    "execution": {
     "iopub.execute_input": "2021-01-21T14:57:05.823784Z",
     "iopub.status.busy": "2021-01-21T14:57:05.822872Z",
     "iopub.status.idle": "2021-01-21T14:57:05.833258Z",
     "shell.execute_reply": "2021-01-21T14:57:05.832316Z"
    },
    "papermill": {
     "duration": 0.031885,
     "end_time": "2021-01-21T14:57:05.833412",
     "exception": false,
     "start_time": "2021-01-21T14:57:05.801527",
     "status": "completed"
    },
    "tags": []
   },
   "outputs": [
    {
     "name": "stdout",
     "output_type": "stream",
     "text": [
      "Name has 891 unique values\n",
      "Sex has 2 unique values\n",
      "Ticket has 681 unique values\n",
      "Cabin has 147 unique values\n",
      "Embarked has 3 unique values\n"
     ]
    }
   ],
   "source": [
    "# see which columns contain categorical data\n",
    "categorical_cols = [col for col in X.columns if X[col].dtype == \"object\"]\n",
    "for col in categorical_cols:\n",
    "    print(f\"{col} has {X[col].nunique()} unique values\")"
   ]
  },
  {
   "cell_type": "code",
   "execution_count": 8,
   "metadata": {
    "execution": {
     "iopub.execute_input": "2021-01-21T14:57:05.880340Z",
     "iopub.status.busy": "2021-01-21T14:57:05.879523Z",
     "iopub.status.idle": "2021-01-21T14:57:05.884468Z",
     "shell.execute_reply": "2021-01-21T14:57:05.883620Z"
    },
    "papermill": {
     "duration": 0.036071,
     "end_time": "2021-01-21T14:57:05.884598",
     "exception": false,
     "start_time": "2021-01-21T14:57:05.848527",
     "status": "completed"
    },
    "tags": []
   },
   "outputs": [],
   "source": [
    "# remove 'Name', 'Ticket' and 'Cabin' since these cannot be reasonably one-hot encoded\n",
    "# 'Name' is unlikely to help predictions anyway\n",
    "X_train = X_train.drop(columns=[\"Name\", \"Ticket\", \"Cabin\"])\n",
    "X_valid = X_valid.drop(columns=[\"Name\", \"Ticket\", \"Cabin\"])\n",
    "X_test = X_test.drop(columns=[\"Name\", \"Ticket\", \"Cabin\"])\n",
    "X = X.drop(columns=[\"Name\", \"Ticket\", \"Cabin\"])"
   ]
  },
  {
   "cell_type": "code",
   "execution_count": 9,
   "metadata": {
    "execution": {
     "iopub.execute_input": "2021-01-21T14:57:05.926700Z",
     "iopub.status.busy": "2021-01-21T14:57:05.926061Z",
     "iopub.status.idle": "2021-01-21T14:57:06.154512Z",
     "shell.execute_reply": "2021-01-21T14:57:06.153808Z"
    },
    "papermill": {
     "duration": 0.255534,
     "end_time": "2021-01-21T14:57:06.154634",
     "exception": false,
     "start_time": "2021-01-21T14:57:05.899100",
     "status": "completed"
    },
    "tags": []
   },
   "outputs": [],
   "source": [
    "from sklearn.compose import ColumnTransformer\n",
    "from sklearn.pipeline import Pipeline\n",
    "from sklearn.impute import SimpleImputer\n",
    "from sklearn.preprocessing import OneHotEncoder, StandardScaler\n",
    "\n",
    "# can reasonably impute 'Age' and 'Embarked' columns\n",
    "# also need to impute 'Fare' column since X_test has missing values in that column\n",
    "# create pipelines for categorical columns and numerical columns separately and then bundle these steps together\n",
    "numerical_cols = [col for col in X.columns if X[col].dtype in ['int64', 'float64']]\n",
    "numerical_transformer = Pipeline(steps=[('imputer', SimpleImputer(strategy=\"median\")), ('ss', StandardScaler())])\n",
    "\n",
    "categorical_cols = [col for col in X.columns if X[col].dtype == \"object\"]\n",
    "categorical_transformer = Pipeline(steps=[('imputer', SimpleImputer(strategy=\"most_frequent\")), ('ohe', OneHotEncoder(handle_unknown=\"ignore\"))])\n",
    "\n",
    "preprocessor = ColumnTransformer(transformers=[('num', numerical_transformer, numerical_cols), ('cat', categorical_transformer, categorical_cols)])"
   ]
  },
  {
   "cell_type": "code",
   "execution_count": 10,
   "metadata": {
    "execution": {
     "iopub.execute_input": "2021-01-21T14:57:06.198207Z",
     "iopub.status.busy": "2021-01-21T14:57:06.194256Z",
     "iopub.status.idle": "2021-01-21T14:57:09.353424Z",
     "shell.execute_reply": "2021-01-21T14:57:09.354065Z"
    },
    "papermill": {
     "duration": 3.183282,
     "end_time": "2021-01-21T14:57:09.354236",
     "exception": false,
     "start_time": "2021-01-21T14:57:06.170954",
     "status": "completed"
    },
    "tags": []
   },
   "outputs": [
    {
     "name": "stdout",
     "output_type": "stream",
     "text": [
      "{'model__C': 0.1, 'model__solver': 'lbfgs'}\n",
      "0.7237638001486429\n"
     ]
    }
   ],
   "source": [
    "from sklearn.model_selection import GridSearchCV\n",
    "from sklearn.linear_model import LogisticRegression\n",
    "\n",
    "# logistic regression\n",
    "logistic_regression_model = LogisticRegression(random_state=0, max_iter=1000)\n",
    "clf_logreg = Pipeline(steps=[('preprocessor', preprocessor), ('model', logistic_regression_model)])\n",
    "\n",
    "logreg_params = {\n",
    "    \"model__C\": [0.05, 0.1, 0.5, 1, 3, 10, 20, 30, 40],\n",
    "    \"model__solver\": [\"lbfgs\", \"liblinear\"]\n",
    "}\n",
    "\n",
    "# optimise parameters\n",
    "logreg_gs = GridSearchCV(clf_logreg, logreg_params, scoring=\"f1\", cv=5)\n",
    "\n",
    "logreg_gs.fit(X_train, y_train)\n",
    "print(logreg_gs.best_params_)\n",
    "print(logreg_gs.best_score_)"
   ]
  },
  {
   "cell_type": "code",
   "execution_count": 11,
   "metadata": {
    "execution": {
     "iopub.execute_input": "2021-01-21T14:57:09.396154Z",
     "iopub.status.busy": "2021-01-21T14:57:09.395423Z",
     "iopub.status.idle": "2021-01-21T14:57:40.489654Z",
     "shell.execute_reply": "2021-01-21T14:57:40.490492Z"
    },
    "papermill": {
     "duration": 31.120729,
     "end_time": "2021-01-21T14:57:40.490716",
     "exception": false,
     "start_time": "2021-01-21T14:57:09.369987",
     "status": "completed"
    },
    "tags": []
   },
   "outputs": [
    {
     "name": "stdout",
     "output_type": "stream",
     "text": [
      "{'model__max_depth': 7, 'model__n_estimators': 25}\n",
      "0.7489628249147875\n"
     ]
    }
   ],
   "source": [
    "from sklearn.ensemble import RandomForestClassifier\n",
    "\n",
    "# random forest\n",
    "random_forest_model = RandomForestClassifier(random_state=0)\n",
    "clf_rf = Pipeline(steps=[('preprocessor', preprocessor), ('model', random_forest_model)])\n",
    "    \n",
    "rf_params = {\n",
    "    'model__n_estimators': [10, 15, 20, 25, 30, 75, 100], \n",
    "    'model__max_depth': [1, 3, 5, 7, 10]\n",
    "}    \n",
    "\n",
    "# optimise paramaters\n",
    "rf_gs = GridSearchCV(clf_rf, rf_params, scoring=\"f1\", cv=8)\n",
    "\n",
    "rf_gs.fit(X_train, y_train)\n",
    "print(rf_gs.best_params_)\n",
    "print(rf_gs.best_score_)"
   ]
  },
  {
   "cell_type": "code",
   "execution_count": 12,
   "metadata": {
    "execution": {
     "iopub.execute_input": "2021-01-21T14:57:40.561953Z",
     "iopub.status.busy": "2021-01-21T14:57:40.557629Z",
     "iopub.status.idle": "2021-01-21T14:57:47.259209Z",
     "shell.execute_reply": "2021-01-21T14:57:47.258453Z"
    },
    "papermill": {
     "duration": 6.738611,
     "end_time": "2021-01-21T14:57:47.259360",
     "exception": false,
     "start_time": "2021-01-21T14:57:40.520749",
     "status": "completed"
    },
    "tags": []
   },
   "outputs": [
    {
     "name": "stdout",
     "output_type": "stream",
     "text": [
      "{'model__C': 1, 'model__kernel': 'rbf'}\n",
      "0.7500642599142325\n"
     ]
    }
   ],
   "source": [
    "from sklearn.svm import SVC\n",
    "\n",
    "# support vector machine\n",
    "svc_model = SVC(random_state=0)\n",
    "clf_svc = Pipeline(steps=[('preprocessor', preprocessor), ('model', svc_model)])\n",
    "\n",
    "svc_params = {\n",
    "    \"model__C\": [1, 3, 10, 30, 100],\n",
    "    \"model__kernel\": [\"linear\", \"poly\", \"rbf\" , \"sigmoid\"],\n",
    "}\n",
    "\n",
    "# optimise parameters\n",
    "svc_gs = GridSearchCV(clf_svc, svc_params, scoring=\"f1\", cv=5)\n",
    "\n",
    "svc_gs.fit(X_train, y_train)\n",
    "print(svc_gs.best_params_)\n",
    "print(svc_gs.best_score_)"
   ]
  },
  {
   "cell_type": "code",
   "execution_count": 13,
   "metadata": {
    "execution": {
     "iopub.execute_input": "2021-01-21T14:57:47.302954Z",
     "iopub.status.busy": "2021-01-21T14:57:47.302086Z",
     "iopub.status.idle": "2021-01-21T14:58:24.823537Z",
     "shell.execute_reply": "2021-01-21T14:58:24.823980Z"
    },
    "papermill": {
     "duration": 37.547312,
     "end_time": "2021-01-21T14:58:24.824108",
     "exception": false,
     "start_time": "2021-01-21T14:57:47.276796",
     "status": "completed"
    },
    "tags": []
   },
   "outputs": [
    {
     "name": "stdout",
     "output_type": "stream",
     "text": [
      "{'model__learning_rate': 0.001, 'model__n_estimators': 750}\n",
      "0.7431291885140643\n"
     ]
    }
   ],
   "source": [
    "from xgboost import XGBClassifier\n",
    "\n",
    "# extreme gradient boosting\n",
    "xgboost_model = XGBClassifier(n_estimators=1000, learning_rate=0.01)\n",
    "clf_xgb = Pipeline(steps=[('preprocessor', preprocessor), ('model', xgboost_model)])\n",
    "\n",
    "xgb_params = {\n",
    "    \"model__n_estimators\": [10, 50, 100, 250, 500, 750, 1000],\n",
    "    \"model__learning_rate\": [0.001, 0.01, 0.05, 0.1]\n",
    "}\n",
    "\n",
    "# optimise parameters\n",
    "xgb_gs = GridSearchCV(clf_xgb, xgb_params, scoring=\"f1\", cv=5)\n",
    "\n",
    "xgb_gs.fit(X_train, y_train)\n",
    "print(xgb_gs.best_params_)\n",
    "print(xgb_gs.best_score_)"
   ]
  },
  {
   "cell_type": "code",
   "execution_count": 14,
   "metadata": {
    "execution": {
     "iopub.execute_input": "2021-01-21T14:58:24.872242Z",
     "iopub.status.busy": "2021-01-21T14:58:24.871672Z",
     "iopub.status.idle": "2021-01-21T14:58:25.714030Z",
     "shell.execute_reply": "2021-01-21T14:58:25.715031Z"
    },
    "papermill": {
     "duration": 0.876709,
     "end_time": "2021-01-21T14:58:25.715207",
     "exception": false,
     "start_time": "2021-01-21T14:58:24.838498",
     "status": "completed"
    },
    "tags": []
   },
   "outputs": [
    {
     "data": {
      "text/plain": [
       "0.8664421997755332"
      ]
     },
     "execution_count": 14,
     "metadata": {},
     "output_type": "execute_result"
    }
   ],
   "source": [
    "from sklearn.ensemble import VotingClassifier\n",
    "\n",
    "# create an ensemble to select the best estimator from each of the four methods\n",
    "ensemble_model = VotingClassifier(estimators=[\n",
    "    (\"logreg\", logreg_gs.best_estimator_),\n",
    "    (\"rf\", rf_gs.best_estimator_),\n",
    "    (\"svc\", svc_gs.best_estimator_),\n",
    "    (\"xgb\", xgb_gs.best_estimator_)\n",
    "], voting = \"hard\")\n",
    "\n",
    "ensemble_model.fit(X, y)\n",
    "ensemble_model.score(X, y)"
   ]
  },
  {
   "cell_type": "code",
   "execution_count": 15,
   "metadata": {
    "execution": {
     "iopub.execute_input": "2021-01-21T14:58:25.777758Z",
     "iopub.status.busy": "2021-01-21T14:58:25.776996Z",
     "iopub.status.idle": "2021-01-21T14:58:25.829931Z",
     "shell.execute_reply": "2021-01-21T14:58:25.830963Z"
    },
    "papermill": {
     "duration": 0.094272,
     "end_time": "2021-01-21T14:58:25.831134",
     "exception": false,
     "start_time": "2021-01-21T14:58:25.736862",
     "status": "completed"
    },
    "tags": []
   },
   "outputs": [],
   "source": [
    "predictions = ensemble_model.predict(X_test)"
   ]
  },
  {
   "cell_type": "code",
   "execution_count": 16,
   "metadata": {
    "execution": {
     "iopub.execute_input": "2021-01-21T14:58:25.882681Z",
     "iopub.status.busy": "2021-01-21T14:58:25.881889Z",
     "iopub.status.idle": "2021-01-21T14:58:26.169126Z",
     "shell.execute_reply": "2021-01-21T14:58:26.167366Z"
    },
    "papermill": {
     "duration": 0.316361,
     "end_time": "2021-01-21T14:58:26.169300",
     "exception": false,
     "start_time": "2021-01-21T14:58:25.852939",
     "status": "completed"
    },
    "tags": []
   },
   "outputs": [],
   "source": [
    "output = pd.DataFrame({\"PassengerId\": X_test.PassengerId, \"Survived\": predictions})\n",
    "output.to_csv(\"my_submission_3.csv\", index=False)"
   ]
  }
 ],
 "metadata": {
  "kernelspec": {
   "display_name": "Python 3",
   "language": "python",
   "name": "python3"
  },
  "language_info": {
   "codemirror_mode": {
    "name": "ipython",
    "version": 3
   },
   "file_extension": ".py",
   "mimetype": "text/x-python",
   "name": "python",
   "nbconvert_exporter": "python",
   "pygments_lexer": "ipython3",
   "version": "3.7.6"
  },
  "papermill": {
   "duration": 87.377514,
   "end_time": "2021-01-21T14:58:26.297686",
   "environment_variables": {},
   "exception": null,
   "input_path": "__notebook__.ipynb",
   "output_path": "__notebook__.ipynb",
   "parameters": {},
   "start_time": "2021-01-21T14:56:58.920172",
   "version": "2.1.0"
  }
 },
 "nbformat": 4,
 "nbformat_minor": 4
}
